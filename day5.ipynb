{
  "nbformat": 4,
  "nbformat_minor": 0,
  "metadata": {
    "colab": {
      "name": "day5.ipynb",
      "provenance": []
    },
    "kernelspec": {
      "name": "python3",
      "display_name": "Python 3"
    }
  },
  "cells": [
    {
      "cell_type": "code",
      "metadata": {
        "id": "pjSIRfDQonu0"
      },
      "source": [
        ""
      ],
      "execution_count": null,
      "outputs": []
    },
    {
      "cell_type": "markdown",
      "metadata": {
        "id": "t9fZTH34ouZY"
      },
      "source": [
        "# Fucntions \n",
        "\n",
        "1.   Map\n",
        "2.   Filter\n",
        "3.   Lambda\n",
        "\n",
        "# 1 Project what ever Kriti and Paradhi mentions \n",
        "\n"
      ]
    },
    {
      "cell_type": "code",
      "metadata": {
        "id": "U2sVzL05o-Ue"
      },
      "source": [
        "# Fuctions"
      ],
      "execution_count": 1,
      "outputs": []
    },
    {
      "cell_type": "code",
      "metadata": {
        "colab": {
          "base_uri": "https://localhost:8080/"
        },
        "id": "VtaH3YPxq1kg",
        "outputId": "43476015-5add-4002-94ac-7f64d26d3cd5"
      },
      "source": [
        "8%2"
      ],
      "execution_count": 12,
      "outputs": [
        {
          "output_type": "execute_result",
          "data": {
            "text/plain": [
              "0"
            ]
          },
          "metadata": {
            "tags": []
          },
          "execution_count": 12
        }
      ]
    },
    {
      "cell_type": "code",
      "metadata": {
        "colab": {
          "base_uri": "https://localhost:8080/",
          "height": 35
        },
        "id": "zUB2JgJMsl9p",
        "outputId": "abfb1c89-2421-49ed-e559-3c6941350e39"
      },
      "source": [
        "\"sai \" + str(45)"
      ],
      "execution_count": 28,
      "outputs": [
        {
          "output_type": "execute_result",
          "data": {
            "application/vnd.google.colaboratory.intrinsic+json": {
              "type": "string"
            },
            "text/plain": [
              "'sai 45'"
            ]
          },
          "metadata": {
            "tags": []
          },
          "execution_count": 28
        }
      ]
    },
    {
      "cell_type": "code",
      "metadata": {
        "id": "PW-WlZqOpAR0"
      },
      "source": [
        "def isEven(Num):\n",
        "  if Num%2 == 0 :\n",
        "    return str(Num) + \" is a Even Number\"\n",
        "  else:\n",
        "    return str(Num) + \" is a ODD Number\""
      ],
      "execution_count": 23,
      "outputs": []
    },
    {
      "cell_type": "code",
      "metadata": {
        "colab": {
          "base_uri": "https://localhost:8080/",
          "height": 35
        },
        "id": "rtKo8H76pb-m",
        "outputId": "1b093a3f-7087-4c14-e749-30bfcc1bf1d8"
      },
      "source": [
        "isEven(6)"
      ],
      "execution_count": 25,
      "outputs": [
        {
          "output_type": "execute_result",
          "data": {
            "application/vnd.google.colaboratory.intrinsic+json": {
              "type": "string"
            },
            "text/plain": [
              "'6 is a Even Number'"
            ]
          },
          "metadata": {
            "tags": []
          },
          "execution_count": 25
        }
      ]
    },
    {
      "cell_type": "code",
      "metadata": {
        "id": "oKaHxZX-pf_-"
      },
      "source": [
        "# Assignment 1 - Day 5 \n",
        "# Write a Function in Python to check weather a number is Prime Number or Not"
      ],
      "execution_count": 4,
      "outputs": []
    },
    {
      "cell_type": "code",
      "metadata": {
        "id": "69qTRLIjp4oi"
      },
      "source": [
        "# MAP ?\n",
        "\n",
        "# You all guys are having a list of numbers, \n",
        "# and want to store the result of isEven() \n",
        "# in a different list \n",
        "\n",
        "# What u will do ?\n",
        "\n",
        "lst = [1,2,3,4,5,6,7,8,9,10]"
      ],
      "execution_count": 13,
      "outputs": []
    },
    {
      "cell_type": "code",
      "metadata": {
        "id": "gFMI4wGbre84"
      },
      "source": [
        "# 1st Way\n",
        "result_lst = [ ]\n",
        "for item in lst:\n",
        "  result_lst.append(isEven(item))"
      ],
      "execution_count": 31,
      "outputs": []
    },
    {
      "cell_type": "code",
      "metadata": {
        "id": "EvvMif4drtXQ"
      },
      "source": [
        "result_lst"
      ],
      "execution_count": null,
      "outputs": []
    },
    {
      "cell_type": "code",
      "metadata": {
        "id": "o8nNDccBuDO1"
      },
      "source": [
        "# 2nd \n",
        "result_lst_withMap = map(isEven, lst)"
      ],
      "execution_count": 37,
      "outputs": []
    },
    {
      "cell_type": "code",
      "metadata": {
        "colab": {
          "base_uri": "https://localhost:8080/"
        },
        "id": "ZrUG-rb8uVYv",
        "outputId": "6f30a35c-64de-45ba-f5c0-f40fb3e361d2"
      },
      "source": [
        "print(list(result_lst_withMap))"
      ],
      "execution_count": 38,
      "outputs": [
        {
          "output_type": "stream",
          "text": [
            "['1 is a ODD Number', '2 is a Even Number', '3 is a ODD Number', '4 is a Even Number', '5 is a ODD Number', '6 is a Even Number', '7 is a ODD Number', '8 is a Even Number', '9 is a ODD Number', '10 is a Even Number']\n"
          ],
          "name": "stdout"
        }
      ]
    },
    {
      "cell_type": "code",
      "metadata": {
        "id": "4So3DMWzuZJl"
      },
      "source": [
        "# Filter \n",
        "\n",
        "def isOdd(num):\n",
        "  if num%2 != 0 :\n",
        "    return True\n",
        "  else:\n",
        "    return False "
      ],
      "execution_count": 39,
      "outputs": []
    },
    {
      "cell_type": "code",
      "metadata": {
        "colab": {
          "base_uri": "https://localhost:8080/"
        },
        "id": "NxtRSGJtv2gQ",
        "outputId": "e6f96dff-f7c0-400a-945c-419498dd3d54"
      },
      "source": [
        "isOdd(6)"
      ],
      "execution_count": 43,
      "outputs": [
        {
          "output_type": "execute_result",
          "data": {
            "text/plain": [
              "False"
            ]
          },
          "metadata": {
            "tags": []
          },
          "execution_count": 43
        }
      ]
    },
    {
      "cell_type": "code",
      "metadata": {
        "id": "BwxGhPaJv4hz"
      },
      "source": [
        "lst = [21,62,39,42,58,64,79,80,912,10344234311]"
      ],
      "execution_count": 45,
      "outputs": []
    },
    {
      "cell_type": "code",
      "metadata": {
        "id": "QCrL879YwAt7"
      },
      "source": [
        "filterd_odd_lst = [] \n",
        "\n",
        "# You all guys have to get the Odd values only from \n",
        "# the lst in a differnet list"
      ],
      "execution_count": 46,
      "outputs": []
    },
    {
      "cell_type": "code",
      "metadata": {
        "id": "SrqLtEd7wthd"
      },
      "source": [
        "# 1st way \n",
        "for item in lst:\n",
        "  if isOdd(item):\n",
        "    filterd_odd_lst.append(item)"
      ],
      "execution_count": 47,
      "outputs": []
    },
    {
      "cell_type": "code",
      "metadata": {
        "colab": {
          "base_uri": "https://localhost:8080/"
        },
        "id": "Rts1fY83w72D",
        "outputId": "5b7468a8-a321-41ee-b5a4-0cb74f74c40e"
      },
      "source": [
        "filterd_odd_lst"
      ],
      "execution_count": 48,
      "outputs": [
        {
          "output_type": "execute_result",
          "data": {
            "text/plain": [
              "[21, 39, 79, 10344234311]"
            ]
          },
          "metadata": {
            "tags": []
          },
          "execution_count": 48
        }
      ]
    },
    {
      "cell_type": "code",
      "metadata": {
        "id": "rOhaH8I0w96f"
      },
      "source": [
        "# 2nd way \n",
        "\n",
        "filterd_lst = filter(isOdd, lst)"
      ],
      "execution_count": 49,
      "outputs": []
    },
    {
      "cell_type": "code",
      "metadata": {
        "colab": {
          "base_uri": "https://localhost:8080/"
        },
        "id": "GoA5dnRWxR8I",
        "outputId": "418e6edf-fe2c-4313-8448-70c0d21f4f8c"
      },
      "source": [
        "list(filterd_lst)"
      ],
      "execution_count": 50,
      "outputs": [
        {
          "output_type": "execute_result",
          "data": {
            "text/plain": [
              "[21, 39, 79, 10344234311]"
            ]
          },
          "metadata": {
            "tags": []
          },
          "execution_count": 50
        }
      ]
    },
    {
      "cell_type": "code",
      "metadata": {
        "id": "R0SHOdxBxVzF"
      },
      "source": [
        "# Lambda Functions "
      ],
      "execution_count": 51,
      "outputs": []
    },
    {
      "cell_type": "code",
      "metadata": {
        "id": "SH5DyrgFyjHU"
      },
      "source": [
        "def toThePowerEight(num):\n",
        "  return num**8"
      ],
      "execution_count": 56,
      "outputs": []
    },
    {
      "cell_type": "code",
      "metadata": {
        "colab": {
          "base_uri": "https://localhost:8080/"
        },
        "id": "HEVP5Zavy4ge",
        "outputId": "2977a18a-1de3-4d93-cbee-fad94be63c58"
      },
      "source": [
        "toThePowerEight(9)"
      ],
      "execution_count": 57,
      "outputs": [
        {
          "output_type": "execute_result",
          "data": {
            "text/plain": [
              "43046721"
            ]
          },
          "metadata": {
            "tags": []
          },
          "execution_count": 57
        }
      ]
    },
    {
      "cell_type": "code",
      "metadata": {
        "id": "_8mz7mqWy95N"
      },
      "source": [
        "toThePower8 = lambda num : num**8"
      ],
      "execution_count": 55,
      "outputs": []
    },
    {
      "cell_type": "code",
      "metadata": {
        "colab": {
          "base_uri": "https://localhost:8080/"
        },
        "id": "eLCJlfYrz5_m",
        "outputId": "d988c691-c03b-4e44-ece0-e16238ea9775"
      },
      "source": [
        "toThePower8(9)"
      ],
      "execution_count": 58,
      "outputs": [
        {
          "output_type": "execute_result",
          "data": {
            "text/plain": [
              "43046721"
            ]
          },
          "metadata": {
            "tags": []
          },
          "execution_count": 58
        }
      ]
    },
    {
      "cell_type": "code",
      "metadata": {
        "id": "rsw9EJlQ0Qf9"
      },
      "source": [
        "# "
      ],
      "execution_count": null,
      "outputs": []
    }
  ]
}